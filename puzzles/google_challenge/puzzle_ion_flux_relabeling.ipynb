{
 "cells": [
  {
   "cell_type": "markdown",
   "metadata": {},
   "source": [
    "Ion Flux Relabeling\n",
    "===================\n",
    "\n",
    "Oh no! Commander Lambda's latest experiment to improve the efficiency of her LAMBCHOP doomsday device has backfired spectacularly. She had been improving the structure of the ion flux converter tree, but something went terribly wrong and the flux chains exploded. Some of the ion flux converters survived the explosion intact, but others had their position labels blasted off. She's having her henchmen rebuild the ion flux converter tree by hand, but you think you can do it much more quickly - quickly enough, perhaps, to earn a promotion!\n",
    "\n",
    "Flux chains require perfect binary trees, so Lambda's design arranged the ion flux converters to form one. To label them, she performed a post-order traversal of the tree of converters and labeled each converter with the order of that converter in the traversal, starting at 1. For example, a tree of 7 converters would look like the following:\n",
    "\n",
    "   7\n",
    " 3   6\n",
    "1 2 4 5\n",
    "\n",
    "Write a function answer(h, q) - where h is the height of the perfect tree of converters and q is a list of positive integers representing different flux converters - which returns a list of integers p where each element in p is the label of the converter that sits on top of the respective converter in q, or -1 if there is no such converter.  For example, answer(3, [1, 4, 7]) would return the converters above the converters at indexes 1, 4, and 7 in a perfect binary tree of height 3, which is [3, 6, -1].\n",
    "\n",
    "The domain of the integer h is 1 <= h <= 30, where h = 1 represents a perfect binary tree containing only the root, h = 2 represents a perfect binary tree with the root and two leaf nodes, h = 3 represents a perfect binary tree with the root, two internal nodes and four leaf nodes (like the example above), and so forth.  The lists q and p contain at least one but no more than 10000 distinct integers, all of which will be between 1 and 2^h-1, inclusive.\n",
    "\n",
    "\n",
    "Test cases\n",
    "==========\n",
    "\n",
    "Inputs:\n",
    "    (int) h = 3\n",
    "    (int list) q = [7, 3, 5, 1]\n",
    "Output:\n",
    "    (int list) [-1, 7, 6, 3]\n",
    "\n",
    "Inputs:\n",
    "    (int) h = 5\n",
    "    (int list) q = [19, 14, 28]\n",
    "Output:\n",
    "    (int list) [21, 15, 29]"
   ]
  },
  {
   "cell_type": "markdown",
   "metadata": {},
   "source": [
    "## Example trees, h = 3, 4\n",
    "\n",
    "\n",
    "    7 \n",
    "\n",
    "  3     6  \n",
    "  \n",
    "1  2  4  5\n",
    "\n",
    "\n",
    "                15\n",
    "           7          14\n",
    "        3     6    10     13\n",
    "      1   2 4  5  8  9  11   12\n"
   ]
  },
  {
   "cell_type": "code",
   "execution_count": 50,
   "metadata": {},
   "outputs": [],
   "source": [
    "class Node:\n",
    "    #Track parent to make solution easy.\n",
    "    def __init__(self, val):\n",
    "        self.l = None\n",
    "        self.r = None\n",
    "        self.val = val # use for dict key\n",
    "        self.parent_val = None #Just the value. Avoid circular refs.\n",
    "        self.level = 0\n",
    "\n",
    "class Tree:\n",
    "    #dict because we need fast access but never need to traverse.  \n",
    "    tree_nodes = {}\n",
    "    build_stack = []\n",
    "    \n",
    "    def __init__(self,h):\n",
    "        n = 2**h -1\n",
    "\n",
    "        #build perfect post-order binary tree of height h\n",
    "        \n",
    "        #begin with root, n.\n",
    "        node = Node(n)\n",
    "        node.level = h\n",
    "        node.parent_val = -1\n",
    "        \n",
    "        self.build_stack.append(node.val)\n",
    "        self.tree_nodes[node.val] = node\n",
    "        for v in range(n-1,0,-1):\n",
    "            self._add(v)\n",
    "    \n",
    "    def _add(self, val):\n",
    "        # because tree structure is well-defined and fully controlled until formed, \n",
    "        # modifies class variable build_stack\n",
    "        node = Node(val)\n",
    "        self.tree_nodes[node.val] = node\n",
    "        #find spot & place it.\n",
    "        placed = False\n",
    "        while not placed:\n",
    "            last = self.tree_nodes[self.build_stack[-1]]#Don't pop from stack until full\n",
    "\n",
    "            if last.level == 1:\n",
    "                #cant go lower\n",
    "                self.build_stack.pop()\n",
    "                \n",
    "            else:\n",
    "                #right first, then left or pop.\n",
    "                if last.r:\n",
    "                    if last.l:\n",
    "                        #all full. find next one.\n",
    "                        self.build_stack.pop()\n",
    "                    else:\n",
    "                        last.l = node.val\n",
    "                        placed = True\n",
    "\n",
    "                else:\n",
    "                    last.r = node.val\n",
    "                    placed = True\n",
    "\n",
    "        node.parent_val = last.val\n",
    "        node.level = last.level -1\n",
    "        self.build_stack.append(node.val)\n",
    "\n",
    "    def __getitem__(self,key):\n",
    "        return self.tree_nodes[key]\n",
    "\n"
   ]
  },
  {
   "cell_type": "code",
   "execution_count": 43,
   "metadata": {},
   "outputs": [],
   "source": [
    "trees = {}"
   ]
  },
  {
   "cell_type": "code",
   "execution_count": 37,
   "metadata": {},
   "outputs": [],
   "source": [
    "def answer(h, q):\n",
    "    if h in trees:\n",
    "        t = trees[h]\n",
    "    else:\n",
    "        t = Tree(h)\n",
    "        trees[h] = t\n",
    "\n",
    "        answer = []\n",
    "    for item in q:\n",
    "        answer.append(t[item].parent_val)\n",
    "    return answer"
   ]
  },
  {
   "cell_type": "code",
   "execution_count": 48,
   "metadata": {},
   "outputs": [],
   "source": [
    "assert(answer(3,[7, 3, 5, 1]) ==  [-1, 7, 6, 3])\n",
    "assert(answer(5,[19, 14, 28]) ==[21, 15, 29])"
   ]
  },
  {
   "cell_type": "markdown",
   "metadata": {},
   "source": [
    "## Works, but fails verification-- too  memory inefficient.  (O(2**h-1) memory)\n",
    "\n",
    "## Try computing as below, and success! Works, fast, and super memory-efficient."
   ]
  },
  {
   "cell_type": "code",
   "execution_count": null,
   "metadata": {},
   "outputs": [],
   "source": [
    "def MSB( n ):\n",
    "  \"\"\" returns Most Significant Bit of n\"\"\"\n",
    "  ndx = 0\n",
    "  while ( 1 < n ):\n",
    "    n = ( n >> 1 )\n",
    "    ndx += 1\n",
    " \n",
    "  return ndx"
   ]
  },
  {
   "cell_type": "code",
   "execution_count": null,
   "metadata": {},
   "outputs": [],
   "source": [
    "def get_parent(n,h):\n",
    "    \"\"\"\n",
    "    returns parent node of complete/perfect post-order traversal binary tree.\n",
    "    -1 if not in scope of tree of h levels.\n",
    "    \"\"\"\n",
    "    if n < 1 or n >= 2**h -1:\n",
    "        return -1\n",
    "    \n",
    "    accumulator = 0\n",
    "    x = n\n",
    "    delta = 0\n",
    "    #get lefmost sib\n",
    "    while ((x+1) & x) and ((x+2) & (x+1)):\n",
    "        delta = 2**MSB(x) - 1\n",
    "        accumulator += delta\n",
    "        x -= delta\n",
    "\n",
    "    #then calculate parent\n",
    "    if ((x+1) & x) == 0: \n",
    "        x = x * 2 + 1; \n",
    "    \n",
    "    elif ((x+2) & (x+1)) == 0:\n",
    "        x+= 1.\n",
    "    \n",
    "    x += accumulator\n",
    "    return int(x)"
   ]
  },
  {
   "cell_type": "code",
   "execution_count": null,
   "metadata": {},
   "outputs": [],
   "source": [
    "#Redefines answer to use calculated method. \n",
    "def answer(h, q):\n",
    "    answer = [get_parent(x,h) for x in q]\n",
    "    return answer"
   ]
  }
 ],
 "metadata": {
  "kernelspec": {
   "display_name": "Python 3",
   "language": "python",
   "name": "python3"
  },
  "language_info": {
   "codemirror_mode": {
    "name": "ipython",
    "version": 3
   },
   "file_extension": ".py",
   "mimetype": "text/x-python",
   "name": "python",
   "nbconvert_exporter": "python",
   "pygments_lexer": "ipython3",
   "version": "3.6.3"
  }
 },
 "nbformat": 4,
 "nbformat_minor": 2
}
