{
 "cells": [
  {
   "cell_type": "markdown",
   "metadata": {},
   "source": [
    "There's some unrest in the minion ranks: minions with ID numbers like \"1\", \"42\", and other \"good\" numbers have been lording it over the poor minions who are stuck with more boring IDs. To quell the unrest, Commander Lambda has tasked you with reassigning everyone new, random IDs based on her Completely Foolproof Scheme. \n",
    "\n",
    "She's concatenated the prime numbers in a single long string: \"2357111317192329...\". Now every minion must draw a number from a hat. That number is the starting index in that string of primes, and the minion's new ID number will be the next five digits in the string. So if a minion draws \"3\", their ID number will be \"71113\". \n",
    "\n",
    "Help the Commander assign these IDs by writing a function answer(n) which takes in the starting index n of Lambda's string of all primes, and returns the next five digits in the string. Commander Lambda has a lot of minions, so the value of n will always be between 0 and 10000."
   ]
  },
  {
   "cell_type": "code",
   "execution_count": null,
   "metadata": {},
   "outputs": [],
   "source": [
    "# Test cases\n",
    "#==========\n",
    "\"\"\"\n",
    "Inputs:\n",
    "    (int) n = 0\n",
    "Output:\n",
    "    (string) \"23571\"\n",
    "\n",
    "Inputs:\n",
    "    (int) n = 3\n",
    "Output:\n",
    "    (string) \"71113\"\n",
    "\"\"\""
   ]
  },
  {
   "cell_type": "code",
   "execution_count": 21,
   "metadata": {},
   "outputs": [],
   "source": [
    "import itertools\n",
    "def croft():\n",
    "    \"\"\"\n",
    "    Yield prime integers using the Croft Spiral sieve.\n",
    "\n",
    "    This is a variant of wheel factorisation modulo 30.\n",
    "    \"\"\"\n",
    "    # Implementation is based on erat3 from here:\n",
    "    #   http://stackoverflow.com/q/2211990\n",
    "    # and this website:\n",
    "    #   http://www.primesdemystified.com/\n",
    "    # Memory usage increases roughly linearly with the number of primes seen.\n",
    "    # dict ``roots`` stores an entry p**2:p for every prime p.\n",
    "    for p in (2, 3, 5):\n",
    "        yield p\n",
    "    roots = {9: 3, 25: 5}  # Map d**2 -> d.\n",
    "    primeroots = frozenset((1, 7, 11, 13, 17, 19, 23, 29))\n",
    "    selectors = (1, 0, 1, 1, 0, 1, 1, 0, 1, 0, 0, 1, 1, 0, 0)\n",
    "    for q in itertools.compress(\n",
    "            # Iterate over prime candidates 7, 9, 11, 13, ...\n",
    "            itertools.islice(itertools.count(7), 0, None, 2),\n",
    "            # Mask out those that can't possibly be prime.\n",
    "            itertools.cycle(selectors)\n",
    "            ):\n",
    "        # Using dict membership testing instead of pop gives a\n",
    "        # 5-10% speedup over the first three million primes.\n",
    "        if q in roots:\n",
    "            p = roots[q]\n",
    "            del roots[q]\n",
    "            x = q + 2*p\n",
    "            while x in roots or (x % 30) not in primeroots:\n",
    "                x += 2*p\n",
    "            roots[x] = p\n",
    "        else:\n",
    "            roots[q*q] = q\n",
    "            yield q\n",
    "\n"
   ]
  },
  {
   "cell_type": "code",
   "execution_count": 22,
   "metadata": {},
   "outputs": [],
   "source": [
    "def generate_prime_series(n):\n",
    "    s = ''\n",
    "    p = croft()\n",
    "\n",
    "    while len(s) < n:\n",
    "        s+= str(next(p))\n",
    "    return s"
   ]
  },
  {
   "cell_type": "code",
   "execution_count": 26,
   "metadata": {},
   "outputs": [],
   "source": [
    "# max 10,000 minions to re-ID\n",
    "sequence = generate_prime_series(10005)\n",
    "\n",
    "def answer(n):\n",
    "    return sequence[n:n+5]"
   ]
  }
 ],
 "metadata": {
  "kernelspec": {
   "display_name": "Python 3",
   "language": "python",
   "name": "python3"
  },
  "language_info": {
   "codemirror_mode": {
    "name": "ipython",
    "version": 3
   },
   "file_extension": ".py",
   "mimetype": "text/x-python",
   "name": "python",
   "nbconvert_exporter": "python",
   "pygments_lexer": "ipython3",
   "version": "3.6.3"
  }
 },
 "nbformat": 4,
 "nbformat_minor": 2
}
