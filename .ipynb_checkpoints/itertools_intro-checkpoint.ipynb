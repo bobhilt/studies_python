{
 "cells": [
  {
   "cell_type": "markdown",
   "metadata": {},
   "source": [
    "# Introduction to Itertools library, Lightning Version\n",
    "Bob Hiltner 2018-08-01"
   ]
  },
  {
   "cell_type": "markdown",
   "metadata": {},
   "source": [
    "## Functions creating iterators for efficient looping\n",
    "19 Functions"
   ]
  },
  {
   "cell_type": "markdown",
   "metadata": {},
   "source": [
    "   * [https://docs.python.org/3/library/itertools.html]\n",
    "   * https://realpython.com/python-itertools/"
   ]
  },
  {
   "cell_type": "code",
   "execution_count": 5,
   "metadata": {},
   "outputs": [],
   "source": [
    "import itertools as it\n",
    "a = ['a','b','c','d','e','f']\n",
    "z = ['x','y','z']\n",
    "nums = '123456'\n",
    "nums2 = '56789'"
   ]
  },
  {
   "cell_type": "markdown",
   "metadata": {},
   "source": [
    "### Infinite iterators:\n",
    "  * count(start, step)\n",
    "  * cycle(iterable)\n",
    "  * repeat(object[,times])\n"
   ]
  },
  {
   "cell_type": "code",
   "execution_count": 6,
   "metadata": {},
   "outputs": [
    {
     "name": "stdout",
     "output_type": "stream",
     "text": [
      "[100, 99.5, 99.0, 98.5, 98.0, 97.5, 97.0, 96.5, 96.0, 95.5, 95.0, 94.5, 94.0, 93.5, 93.0, 92.5, 92.0, 91.5, 91.0, 90.5]\n"
     ]
    }
   ],
   "source": [
    "counter = it.count(100,-.5)\n",
    "l = [next(counter) for _ in range(20)]\n",
    "print(l)"
   ]
  },
  {
   "cell_type": "code",
   "execution_count": 7,
   "metadata": {},
   "outputs": [
    {
     "name": "stdout",
     "output_type": "stream",
     "text": [
      "['x', 'y', 'z', 'x', 'y', 'z', 'x', 'y', 'z', 'x', 'y', 'z', 'x', 'y', 'z', 'x', 'y', 'z', 'x', 'y']\n"
     ]
    }
   ],
   "source": [
    "my_cycle = it.cycle(z)\n",
    "\n",
    "l = [next(my_cycle) for _ in range(20)]\n",
    "print(l)"
   ]
  },
  {
   "cell_type": "code",
   "execution_count": 10,
   "metadata": {},
   "outputs": [
    {
     "name": "stdout",
     "output_type": "stream",
     "text": [
      "['Fizz', 'Fizz', 'Fizz', 'Fizz', 'Fizz', 'Fizz', 'Fizz', 'Fizz', 'Fizz', 'Fizz', 'Fizz', 'Fizz', 'Fizz', 'Fizz', 'Fizz', 'Fizz', 'Fizz', 'Fizz', 'Fizz', 'Fizz']\n"
     ]
    }
   ],
   "source": [
    "# repeat(object[,5)\n",
    "broken_fizz_buzz =  it.repeat('Fizz')\n",
    "l = [next(broken_fizz_buzz) for _ in range(20)]\n",
    "print(l)\n"
   ]
  },
  {
   "cell_type": "markdown",
   "metadata": {},
   "source": [
    "### Iterators terminating on the shortest input sequence\n",
    "   * accumulate()\n",
    "   * chain()\n",
    "   * chain.from_iterable()\n",
    "   * compress()\n",
    "   * dropwhile()\n",
    "   * filter_false()\n",
    "   * group_by()\n",
    "   * islice()\n",
    "   * starmap()\n",
    "   * takewhile()\n",
    "   * tee()\n",
    "   * zip_longest()"
   ]
  },
  {
   "cell_type": "code",
   "execution_count": 11,
   "metadata": {},
   "outputs": [
    {
     "name": "stdout",
     "output_type": "stream",
     "text": [
      "[1, 2, 3]\n",
      "[]\n",
      "[1, 2, 3]\n"
     ]
    }
   ],
   "source": [
    "# tee() -- create multiple iterables from one\n",
    "i1, i2, i3, i4 = it.tee([1,2,3],4)\n",
    "\n",
    "print(list(i1))\n",
    "#i1 now exhausted.\n",
    "print(list(i1))\n",
    "print(list(i2))"
   ]
  },
  {
   "cell_type": "markdown",
   "metadata": {},
   "source": [
    "### Combinatoric iterators:\n",
    "   * product()\n",
    "   * permutations()\n",
    "   * combinations(), combinations_with_replacement()\n"
   ]
  },
  {
   "cell_type": "code",
   "execution_count": 12,
   "metadata": {},
   "outputs": [
    {
     "data": {
      "text/plain": [
       "[(1, 'a'), (1, 'b'), (2, 'a'), (2, 'b')]"
      ]
     },
     "execution_count": 12,
     "metadata": {},
     "output_type": "execute_result"
    }
   ],
   "source": [
    "#product - gives cartesian product of members:\n",
    "list(it.product([1, 2], ['a', 'b']) )"
   ]
  },
  {
   "cell_type": "code",
   "execution_count": 13,
   "metadata": {},
   "outputs": [
    {
     "data": {
      "text/plain": [
       "[('a', 'd,', 'g'),\n",
       " ('a', 'd,', 'h'),\n",
       " ('a', 'd,', 'i'),\n",
       " ('a', 'e', 'g'),\n",
       " ('a', 'e', 'h'),\n",
       " ('a', 'e', 'i'),\n",
       " ('a', 'f', 'g'),\n",
       " ('a', 'f', 'h'),\n",
       " ('a', 'f', 'i'),\n",
       " ('b', 'd,', 'g'),\n",
       " ('b', 'd,', 'h'),\n",
       " ('b', 'd,', 'i'),\n",
       " ('b', 'e', 'g'),\n",
       " ('b', 'e', 'h'),\n",
       " ('b', 'e', 'i'),\n",
       " ('b', 'f', 'g'),\n",
       " ('b', 'f', 'h'),\n",
       " ('b', 'f', 'i'),\n",
       " ('c', 'd,', 'g'),\n",
       " ('c', 'd,', 'h'),\n",
       " ('c', 'd,', 'i'),\n",
       " ('c', 'e', 'g'),\n",
       " ('c', 'e', 'h'),\n",
       " ('c', 'e', 'i'),\n",
       " ('c', 'f', 'g'),\n",
       " ('c', 'f', 'h'),\n",
       " ('c', 'f', 'i')]"
      ]
     },
     "execution_count": 13,
     "metadata": {},
     "output_type": "execute_result"
    }
   ],
   "source": [
    "list(it.product(['a','b','c'],['d,','e','f'],['g','h','i']))\n"
   ]
  },
  {
   "cell_type": "code",
   "execution_count": 14,
   "metadata": {},
   "outputs": [
    {
     "name": "stdout",
     "output_type": "stream",
     "text": [
      "Warriors @ Crusaders\n",
      "Warriors @ Raiders\n",
      "Warriors @ Eagles\n",
      "Crusaders @ Warriors\n",
      "Crusaders @ Raiders\n",
      "Crusaders @ Eagles\n",
      "Raiders @ Warriors\n",
      "Raiders @ Crusaders\n",
      "Raiders @ Eagles\n",
      "Eagles @ Warriors\n",
      "Eagles @ Crusaders\n",
      "Eagles @ Raiders\n"
     ]
    }
   ],
   "source": [
    "#Permutations\n",
    "ilh_teams = [\"Warriors\", \"Crusaders\", \"Raiders\", \"Eagles\"]\n",
    "for away, home in it.permutations(ilh_teams,2):\n",
    "    print(\"{} @ {}\".format(away,home))\n"
   ]
  },
  {
   "cell_type": "code",
   "execution_count": null,
   "metadata": {},
   "outputs": [],
   "source": [
    "#Combinations()"
   ]
  },
  {
   "cell_type": "code",
   "execution_count": 15,
   "metadata": {},
   "outputs": [
    {
     "data": {
      "text/plain": [
       "[('1', '2', '3', '4'),\n",
       " ('1', '2', '3', '5'),\n",
       " ('1', '2', '3', '6'),\n",
       " ('1', '2', '4', '5'),\n",
       " ('1', '2', '4', '6'),\n",
       " ('1', '2', '5', '6'),\n",
       " ('1', '3', '4', '5'),\n",
       " ('1', '3', '4', '6'),\n",
       " ('1', '3', '5', '6'),\n",
       " ('1', '4', '5', '6'),\n",
       " ('2', '3', '4', '5'),\n",
       " ('2', '3', '4', '6'),\n",
       " ('2', '3', '5', '6'),\n",
       " ('2', '4', '5', '6'),\n",
       " ('3', '4', '5', '6')]"
      ]
     },
     "execution_count": 15,
     "metadata": {},
     "output_type": "execute_result"
    }
   ],
   "source": [
    "list(it.combinations(nums,4)) #What are the 4-digit sequences (in lexocographic order)?"
   ]
  },
  {
   "cell_type": "markdown",
   "metadata": {},
   "source": [
    "See also Zip() and Map() which were formerly in itertools, now built-i."
   ]
  },
  {
   "cell_type": "markdown",
   "metadata": {},
   "source": [
    "## Summary\n",
    "### When you're working with combinations or doing other things with iterators, there is a great chance that you'll find a high-performace pre-tested version of important parts of your function in the itertools library.  Definitely worth checking out"
   ]
  }
 ],
 "metadata": {
  "kernelspec": {
   "display_name": "Python 3",
   "language": "python",
   "name": "python3"
  },
  "language_info": {
   "codemirror_mode": {
    "name": "ipython",
    "version": 3
   },
   "file_extension": ".py",
   "mimetype": "text/x-python",
   "name": "python",
   "nbconvert_exporter": "python",
   "pygments_lexer": "ipython3",
   "version": "3.6.3"
  }
 },
 "nbformat": 4,
 "nbformat_minor": 2
}
